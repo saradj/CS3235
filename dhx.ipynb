{
 "cells": [
  {
   "cell_type": "code",
   "execution_count": 1,
   "metadata": {},
   "outputs": [],
   "source": [
    "from cryptography.hazmat.backends import default_backend\n",
    "from cryptography.hazmat.primitives import hashes, padding\n",
    "from cryptography.hazmat.primitives.asymmetric import ec\n",
    "from cryptography.hazmat.primitives.kdf.hkdf import HKDF\n",
    "from cryptography.hazmat.primitives.ciphers import Cipher, algorithms, modes\n",
    "from secrets import token_bytes\n",
    "from ipynb.fs.full.xtea import *\n",
    "\n",
    "\n",
    "class DiffieHellmanX:\n",
    "    def __init__(self):\n",
    "        self.diffieHellman = ec.generate_private_key(ec.SECP384R1(), default_backend())\n",
    "        self.public_key = self.diffieHellman.public_key()\n",
    "        self.IV = token_bytes(16)\n",
    "\n",
    "    def encrypt(self, public_key, secret):\n",
    "        shared_key = self.diffieHellman.exchange(ec.ECDH(), public_key)\n",
    "        derived_key = HKDF(\n",
    "            algorithm=hashes.SHA256(),\n",
    "            length=32,\n",
    "            salt=None,\n",
    "            info=None,\n",
    "            backend=default_backend()\n",
    "        ).derive(shared_key)\n",
    "\n",
    "        x = new(b\" \"*16, mode=MODE_OFB, IV=b\"12345678\")\n",
    "        return  x.encrypt(secret)\n",
    "    \n",
    "def xtea(plaintext, iterations):\n",
    "    key = b\" \"*16\n",
    "    x = new(key, mode=MODE_OFB, IV=b\"12345678\")\n",
    "    start = process_time()\n",
    "    for i in range(iterations):\n",
    "            c = x.encrypt(plaintext)\n",
    "    end = process_time()\n",
    "#     dec= x.decrypt(c)\n",
    "#     print(\"decrypted \")\n",
    "#     print(dec.decode())\n",
    "    return c, (end - start)\n",
    "  "
   ]
  },
  {
   "cell_type": "code",
   "execution_count": null,
   "metadata": {},
   "outputs": [],
   "source": []
  }
 ],
 "metadata": {
  "kernelspec": {
   "display_name": "Python 3",
   "language": "python",
   "name": "python3"
  },
  "language_info": {
   "codemirror_mode": {
    "name": "ipython",
    "version": 3
   },
   "file_extension": ".py",
   "mimetype": "text/x-python",
   "name": "python",
   "nbconvert_exporter": "python",
   "pygments_lexer": "ipython3",
   "version": "3.7.1"
  }
 },
 "nbformat": 4,
 "nbformat_minor": 2
}
